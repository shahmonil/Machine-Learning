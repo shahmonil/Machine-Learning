{
  "nbformat": 4,
  "nbformat_minor": 0,
  "metadata": {
    "colab": {
      "name": "ANN for Regression.ipynb",
      "provenance": [],
      "authorship_tag": "ABX9TyP9yJcNnY4xSQtxtvo6xk3B",
      "include_colab_link": true
    },
    "kernelspec": {
      "name": "python3",
      "display_name": "Python 3"
    }
  },
  "cells": [
    {
      "cell_type": "markdown",
      "metadata": {
        "id": "view-in-github",
        "colab_type": "text"
      },
      "source": [
        "<a href=\"https://colab.research.google.com/github/shahmonil/Machine-Learning/blob/master/ANN_for_Regression.ipynb\" target=\"_parent\"><img src=\"https://colab.research.google.com/assets/colab-badge.svg\" alt=\"Open In Colab\"/></a>"
      ]
    },
    {
      "cell_type": "code",
      "metadata": {
        "id": "UixAWdIMZgZM",
        "colab_type": "code",
        "colab": {}
      },
      "source": [
        "import pandas as pd\n",
        "import numpy as np\n",
        "import tensorflow as tf"
      ],
      "execution_count": 0,
      "outputs": []
    },
    {
      "cell_type": "code",
      "metadata": {
        "id": "dxqxNmXQa0fN",
        "colab_type": "code",
        "colab": {}
      },
      "source": [
        "dataset = pd.read_excel('Folds5x2_pp.xlsx')"
      ],
      "execution_count": 0,
      "outputs": []
    },
    {
      "cell_type": "code",
      "metadata": {
        "id": "1NeK-aana-gn",
        "colab_type": "code",
        "outputId": "867dc47e-a6e5-41fb-eb7d-a0412dea98fc",
        "colab": {
          "base_uri": "https://localhost:8080/",
          "height": 197
        }
      },
      "source": [
        "dataset.head()"
      ],
      "execution_count": 5,
      "outputs": [
        {
          "output_type": "execute_result",
          "data": {
            "text/html": [
              "<div>\n",
              "<style scoped>\n",
              "    .dataframe tbody tr th:only-of-type {\n",
              "        vertical-align: middle;\n",
              "    }\n",
              "\n",
              "    .dataframe tbody tr th {\n",
              "        vertical-align: top;\n",
              "    }\n",
              "\n",
              "    .dataframe thead th {\n",
              "        text-align: right;\n",
              "    }\n",
              "</style>\n",
              "<table border=\"1\" class=\"dataframe\">\n",
              "  <thead>\n",
              "    <tr style=\"text-align: right;\">\n",
              "      <th></th>\n",
              "      <th>AT</th>\n",
              "      <th>V</th>\n",
              "      <th>AP</th>\n",
              "      <th>RH</th>\n",
              "      <th>PE</th>\n",
              "    </tr>\n",
              "  </thead>\n",
              "  <tbody>\n",
              "    <tr>\n",
              "      <th>0</th>\n",
              "      <td>14.96</td>\n",
              "      <td>41.76</td>\n",
              "      <td>1024.07</td>\n",
              "      <td>73.17</td>\n",
              "      <td>463.26</td>\n",
              "    </tr>\n",
              "    <tr>\n",
              "      <th>1</th>\n",
              "      <td>25.18</td>\n",
              "      <td>62.96</td>\n",
              "      <td>1020.04</td>\n",
              "      <td>59.08</td>\n",
              "      <td>444.37</td>\n",
              "    </tr>\n",
              "    <tr>\n",
              "      <th>2</th>\n",
              "      <td>5.11</td>\n",
              "      <td>39.40</td>\n",
              "      <td>1012.16</td>\n",
              "      <td>92.14</td>\n",
              "      <td>488.56</td>\n",
              "    </tr>\n",
              "    <tr>\n",
              "      <th>3</th>\n",
              "      <td>20.86</td>\n",
              "      <td>57.32</td>\n",
              "      <td>1010.24</td>\n",
              "      <td>76.64</td>\n",
              "      <td>446.48</td>\n",
              "    </tr>\n",
              "    <tr>\n",
              "      <th>4</th>\n",
              "      <td>10.82</td>\n",
              "      <td>37.50</td>\n",
              "      <td>1009.23</td>\n",
              "      <td>96.62</td>\n",
              "      <td>473.90</td>\n",
              "    </tr>\n",
              "  </tbody>\n",
              "</table>\n",
              "</div>"
            ],
            "text/plain": [
              "      AT      V       AP     RH      PE\n",
              "0  14.96  41.76  1024.07  73.17  463.26\n",
              "1  25.18  62.96  1020.04  59.08  444.37\n",
              "2   5.11  39.40  1012.16  92.14  488.56\n",
              "3  20.86  57.32  1010.24  76.64  446.48\n",
              "4  10.82  37.50  1009.23  96.62  473.90"
            ]
          },
          "metadata": {
            "tags": []
          },
          "execution_count": 5
        }
      ]
    },
    {
      "cell_type": "code",
      "metadata": {
        "id": "pl02gkvia_8V",
        "colab_type": "code",
        "outputId": "9d66b872-82f3-4ecc-d96d-ff2e5d81d40b",
        "colab": {
          "base_uri": "https://localhost:8080/",
          "height": 34
        }
      },
      "source": [
        "dataset.shape"
      ],
      "execution_count": 6,
      "outputs": [
        {
          "output_type": "execute_result",
          "data": {
            "text/plain": [
              "(9568, 5)"
            ]
          },
          "metadata": {
            "tags": []
          },
          "execution_count": 6
        }
      ]
    },
    {
      "cell_type": "code",
      "metadata": {
        "id": "jSGquLvqbDUs",
        "colab_type": "code",
        "colab": {}
      },
      "source": [
        "X = dataset.iloc[:,:-1]\n",
        "y = dataset.iloc[:,-1]"
      ],
      "execution_count": 0,
      "outputs": []
    },
    {
      "cell_type": "code",
      "metadata": {
        "id": "n_s-BPVEkWIk",
        "colab_type": "code",
        "colab": {}
      },
      "source": [
        "from sklearn.model_selection import train_test_split\n",
        "X_train, X_test, y_train, y_test  = train_test_split(X,y,test_size = 0.2, random_state = 0)"
      ],
      "execution_count": 0,
      "outputs": []
    },
    {
      "cell_type": "code",
      "metadata": {
        "id": "e45gVFuUmnwR",
        "colab_type": "code",
        "colab": {}
      },
      "source": [
        "ann = tf.keras.models.Sequential()"
      ],
      "execution_count": 0,
      "outputs": []
    },
    {
      "cell_type": "code",
      "metadata": {
        "id": "0VexjsE8pATt",
        "colab_type": "code",
        "colab": {}
      },
      "source": [
        "ann.add(tf.keras.layers.Dense(units=6, activation='relu'))\n",
        "#dense stands for connection between input and output"
      ],
      "execution_count": 0,
      "outputs": []
    },
    {
      "cell_type": "code",
      "metadata": {
        "id": "5j4_yUXopSEB",
        "colab_type": "code",
        "colab": {}
      },
      "source": [
        "ann.add(tf.keras.layers.Dense(units=6, activation='relu'))"
      ],
      "execution_count": 0,
      "outputs": []
    },
    {
      "cell_type": "code",
      "metadata": {
        "id": "8J42Yz0kpS-e",
        "colab_type": "code",
        "colab": {}
      },
      "source": [
        "ann.add(tf.keras.layers.Dense(units=6, activation='relu'))"
      ],
      "execution_count": 0,
      "outputs": []
    },
    {
      "cell_type": "code",
      "metadata": {
        "id": "065Ks8j-u9X6",
        "colab_type": "code",
        "colab": {}
      },
      "source": [
        "ann.add(tf.keras.layers.Dense(units=1))"
      ],
      "execution_count": 0,
      "outputs": []
    },
    {
      "cell_type": "code",
      "metadata": {
        "id": "fKKc7ydOwRp9",
        "colab_type": "code",
        "colab": {}
      },
      "source": [
        "ann.compile(optimizer='adam', loss='mean_squared_error')"
      ],
      "execution_count": 0,
      "outputs": []
    },
    {
      "cell_type": "code",
      "metadata": {
        "id": "nMngq6RSyFL-",
        "colab_type": "code",
        "outputId": "1a6ce154-65b5-47fd-d3f3-2c97a537d62c",
        "colab": {
          "base_uri": "https://localhost:8080/",
          "height": 230
        }
      },
      "source": [
        "y_train"
      ],
      "execution_count": 15,
      "outputs": [
        {
          "output_type": "execute_result",
          "data": {
            "text/plain": [
              "496     473.93\n",
              "294     467.87\n",
              "6796    431.97\n",
              "6785    425.28\n",
              "1203    473.10\n",
              "         ...  \n",
              "7891    462.68\n",
              "9225    467.20\n",
              "4859    459.01\n",
              "3264    462.72\n",
              "2732    428.12\n",
              "Name: PE, Length: 7654, dtype: float64"
            ]
          },
          "metadata": {
            "tags": []
          },
          "execution_count": 15
        }
      ]
    },
    {
      "cell_type": "code",
      "metadata": {
        "id": "pcM8jAwbx3nQ",
        "colab_type": "code",
        "outputId": "4571f0d3-e467-4f0a-c1bc-92c762667e64",
        "colab": {
          "base_uri": "https://localhost:8080/",
          "height": 1000
        }
      },
      "source": [
        "ann.fit(X_train, y_train ,batch_size=32,epochs=100)\n",
        "#forward propogate in the batch size of 32 (not individually)"
      ],
      "execution_count": 16,
      "outputs": [
        {
          "output_type": "stream",
          "text": [
            "Epoch 1/100\n",
            "WARNING:tensorflow:Layer dense is casting an input tensor from dtype float64 to the layer's dtype of float32, which is new behavior in TensorFlow 2.  The layer has dtype float32 because it's dtype defaults to floatx.\n",
            "\n",
            "If you intended to run this layer in float32, you can safely ignore this warning. If in doubt, this warning is likely only an issue if you are porting a TensorFlow 1.X model to TensorFlow 2.\n",
            "\n",
            "To change all layers to have dtype float64 by default, call `tf.keras.backend.set_floatx('float64')`. To change just this layer, pass dtype='float64' to the layer constructor. If you are the author of this layer, you can disable autocasting by passing autocast=False to the base Layer constructor.\n",
            "\n",
            "240/240 [==============================] - 0s 1ms/step - loss: 369101.6562\n",
            "Epoch 2/100\n",
            "240/240 [==============================] - 0s 1ms/step - loss: 29708.9492\n",
            "Epoch 3/100\n",
            "240/240 [==============================] - 0s 1ms/step - loss: 486.3224\n",
            "Epoch 4/100\n",
            "240/240 [==============================] - 0s 1ms/step - loss: 467.6673\n",
            "Epoch 5/100\n",
            "240/240 [==============================] - 0s 1ms/step - loss: 445.8132\n",
            "Epoch 6/100\n",
            "240/240 [==============================] - 0s 1ms/step - loss: 421.1033\n",
            "Epoch 7/100\n",
            "240/240 [==============================] - 0s 1ms/step - loss: 394.4680\n",
            "Epoch 8/100\n",
            "240/240 [==============================] - 0s 1ms/step - loss: 365.8296\n",
            "Epoch 9/100\n",
            "240/240 [==============================] - 0s 1ms/step - loss: 336.8406\n",
            "Epoch 10/100\n",
            "240/240 [==============================] - 0s 1ms/step - loss: 305.9964\n",
            "Epoch 11/100\n",
            "240/240 [==============================] - 0s 1ms/step - loss: 274.9683\n",
            "Epoch 12/100\n",
            "240/240 [==============================] - 0s 1ms/step - loss: 245.2003\n",
            "Epoch 13/100\n",
            "240/240 [==============================] - 0s 1ms/step - loss: 215.1868\n",
            "Epoch 14/100\n",
            "240/240 [==============================] - 0s 1ms/step - loss: 186.3761\n",
            "Epoch 15/100\n",
            "240/240 [==============================] - 0s 1ms/step - loss: 159.5576\n",
            "Epoch 16/100\n",
            "240/240 [==============================] - 0s 1ms/step - loss: 135.1154\n",
            "Epoch 17/100\n",
            "240/240 [==============================] - 0s 1ms/step - loss: 112.7296\n",
            "Epoch 18/100\n",
            "240/240 [==============================] - 0s 1ms/step - loss: 93.8696\n",
            "Epoch 19/100\n",
            "240/240 [==============================] - 0s 1ms/step - loss: 78.0769\n",
            "Epoch 20/100\n",
            "240/240 [==============================] - 0s 1ms/step - loss: 65.3883\n",
            "Epoch 21/100\n",
            "240/240 [==============================] - 0s 1ms/step - loss: 55.6153\n",
            "Epoch 22/100\n",
            "240/240 [==============================] - 0s 1ms/step - loss: 48.6794\n",
            "Epoch 23/100\n",
            "240/240 [==============================] - 0s 1ms/step - loss: 43.3917\n",
            "Epoch 24/100\n",
            "240/240 [==============================] - 0s 1ms/step - loss: 40.0018\n",
            "Epoch 25/100\n",
            "240/240 [==============================] - 0s 1ms/step - loss: 37.2181\n",
            "Epoch 26/100\n",
            "240/240 [==============================] - 0s 1ms/step - loss: 35.0106\n",
            "Epoch 27/100\n",
            "240/240 [==============================] - 0s 1ms/step - loss: 33.0965\n",
            "Epoch 28/100\n",
            "240/240 [==============================] - 0s 1ms/step - loss: 31.8284\n",
            "Epoch 29/100\n",
            "240/240 [==============================] - 0s 1ms/step - loss: 30.5969\n",
            "Epoch 30/100\n",
            "240/240 [==============================] - 0s 1ms/step - loss: 29.8767\n",
            "Epoch 31/100\n",
            "240/240 [==============================] - 0s 1ms/step - loss: 29.5790\n",
            "Epoch 32/100\n",
            "240/240 [==============================] - 0s 1ms/step - loss: 29.4263\n",
            "Epoch 33/100\n",
            "240/240 [==============================] - 0s 1ms/step - loss: 28.7825\n",
            "Epoch 34/100\n",
            "240/240 [==============================] - 0s 1ms/step - loss: 29.1562\n",
            "Epoch 35/100\n",
            "240/240 [==============================] - 0s 1ms/step - loss: 28.5062\n",
            "Epoch 36/100\n",
            "240/240 [==============================] - 0s 1ms/step - loss: 28.0219\n",
            "Epoch 37/100\n",
            "240/240 [==============================] - 0s 1ms/step - loss: 27.8885\n",
            "Epoch 38/100\n",
            "240/240 [==============================] - 0s 1ms/step - loss: 28.2768\n",
            "Epoch 39/100\n",
            "240/240 [==============================] - 0s 1ms/step - loss: 28.1316\n",
            "Epoch 40/100\n",
            "240/240 [==============================] - 0s 1ms/step - loss: 27.5655\n",
            "Epoch 41/100\n",
            "240/240 [==============================] - 0s 1ms/step - loss: 27.4806\n",
            "Epoch 42/100\n",
            "240/240 [==============================] - 0s 1ms/step - loss: 27.6462\n",
            "Epoch 43/100\n",
            "240/240 [==============================] - 0s 1ms/step - loss: 27.6115\n",
            "Epoch 44/100\n",
            "240/240 [==============================] - 0s 1ms/step - loss: 28.0173\n",
            "Epoch 45/100\n",
            "240/240 [==============================] - 0s 1ms/step - loss: 28.2310\n",
            "Epoch 46/100\n",
            "240/240 [==============================] - 0s 1ms/step - loss: 27.6354\n",
            "Epoch 47/100\n",
            "240/240 [==============================] - 0s 1ms/step - loss: 28.5148\n",
            "Epoch 48/100\n",
            "240/240 [==============================] - 0s 1ms/step - loss: 26.6088\n",
            "Epoch 49/100\n",
            "240/240 [==============================] - 0s 1ms/step - loss: 27.0125\n",
            "Epoch 50/100\n",
            "240/240 [==============================] - 0s 1ms/step - loss: 27.2520\n",
            "Epoch 51/100\n",
            "240/240 [==============================] - 0s 1ms/step - loss: 27.3375\n",
            "Epoch 52/100\n",
            "240/240 [==============================] - 0s 1ms/step - loss: 27.5096\n",
            "Epoch 53/100\n",
            "240/240 [==============================] - 0s 1ms/step - loss: 26.7816\n",
            "Epoch 54/100\n",
            "240/240 [==============================] - 0s 1ms/step - loss: 27.7557\n",
            "Epoch 55/100\n",
            "240/240 [==============================] - 0s 1ms/step - loss: 26.9127\n",
            "Epoch 56/100\n",
            "240/240 [==============================] - 0s 1ms/step - loss: 27.0907\n",
            "Epoch 57/100\n",
            "240/240 [==============================] - 0s 1ms/step - loss: 26.8676\n",
            "Epoch 58/100\n",
            "240/240 [==============================] - 0s 1ms/step - loss: 27.2725\n",
            "Epoch 59/100\n",
            "240/240 [==============================] - 0s 1ms/step - loss: 26.8955\n",
            "Epoch 60/100\n",
            "240/240 [==============================] - 0s 1ms/step - loss: 27.1309\n",
            "Epoch 61/100\n",
            "240/240 [==============================] - 0s 1ms/step - loss: 27.4570\n",
            "Epoch 62/100\n",
            "240/240 [==============================] - 0s 1ms/step - loss: 27.5606\n",
            "Epoch 63/100\n",
            "240/240 [==============================] - 0s 1ms/step - loss: 27.6790\n",
            "Epoch 64/100\n",
            "240/240 [==============================] - 0s 1ms/step - loss: 27.2916\n",
            "Epoch 65/100\n",
            "240/240 [==============================] - 0s 1ms/step - loss: 27.8061\n",
            "Epoch 66/100\n",
            "240/240 [==============================] - 0s 1ms/step - loss: 26.8988\n",
            "Epoch 67/100\n",
            "240/240 [==============================] - 0s 1ms/step - loss: 26.9742\n",
            "Epoch 68/100\n",
            "240/240 [==============================] - 0s 1ms/step - loss: 26.7967\n",
            "Epoch 69/100\n",
            "240/240 [==============================] - 0s 1ms/step - loss: 27.1688\n",
            "Epoch 70/100\n",
            "240/240 [==============================] - 0s 1ms/step - loss: 28.7204\n",
            "Epoch 71/100\n",
            "240/240 [==============================] - 0s 1ms/step - loss: 27.3208\n",
            "Epoch 72/100\n",
            "240/240 [==============================] - 0s 1ms/step - loss: 26.7100\n",
            "Epoch 73/100\n",
            "240/240 [==============================] - 0s 1ms/step - loss: 26.9923\n",
            "Epoch 74/100\n",
            "240/240 [==============================] - 0s 1ms/step - loss: 26.8972\n",
            "Epoch 75/100\n",
            "240/240 [==============================] - 0s 1ms/step - loss: 26.9855\n",
            "Epoch 76/100\n",
            "240/240 [==============================] - 0s 1ms/step - loss: 27.2586\n",
            "Epoch 77/100\n",
            "240/240 [==============================] - 0s 1ms/step - loss: 27.3686\n",
            "Epoch 78/100\n",
            "240/240 [==============================] - 0s 1ms/step - loss: 27.9713\n",
            "Epoch 79/100\n",
            "240/240 [==============================] - 0s 1ms/step - loss: 27.3529\n",
            "Epoch 80/100\n",
            "240/240 [==============================] - 0s 1ms/step - loss: 26.9760\n",
            "Epoch 81/100\n",
            "240/240 [==============================] - 0s 1ms/step - loss: 26.7163\n",
            "Epoch 82/100\n",
            "240/240 [==============================] - 0s 1ms/step - loss: 26.9600\n",
            "Epoch 83/100\n",
            "240/240 [==============================] - 0s 1ms/step - loss: 26.6919\n",
            "Epoch 84/100\n",
            "240/240 [==============================] - 0s 1ms/step - loss: 26.9530\n",
            "Epoch 85/100\n",
            "240/240 [==============================] - 0s 1ms/step - loss: 26.7621\n",
            "Epoch 86/100\n",
            "240/240 [==============================] - 0s 1ms/step - loss: 27.7992\n",
            "Epoch 87/100\n",
            "240/240 [==============================] - 0s 1ms/step - loss: 27.2233\n",
            "Epoch 88/100\n",
            "240/240 [==============================] - 0s 1ms/step - loss: 27.3958\n",
            "Epoch 89/100\n",
            "240/240 [==============================] - 0s 1ms/step - loss: 27.7068\n",
            "Epoch 90/100\n",
            "240/240 [==============================] - 0s 1ms/step - loss: 26.5777\n",
            "Epoch 91/100\n",
            "240/240 [==============================] - 0s 1ms/step - loss: 27.1478\n",
            "Epoch 92/100\n",
            "240/240 [==============================] - 0s 1ms/step - loss: 27.1296\n",
            "Epoch 93/100\n",
            "240/240 [==============================] - 0s 1ms/step - loss: 26.5293\n",
            "Epoch 94/100\n",
            "240/240 [==============================] - 0s 1ms/step - loss: 26.8271\n",
            "Epoch 95/100\n",
            "240/240 [==============================] - 0s 1ms/step - loss: 26.8698\n",
            "Epoch 96/100\n",
            "240/240 [==============================] - 0s 1ms/step - loss: 26.4795\n",
            "Epoch 97/100\n",
            "240/240 [==============================] - 0s 1ms/step - loss: 27.3279\n",
            "Epoch 98/100\n",
            "240/240 [==============================] - 0s 1ms/step - loss: 26.9717\n",
            "Epoch 99/100\n",
            "240/240 [==============================] - 0s 1ms/step - loss: 27.4289\n",
            "Epoch 100/100\n",
            "240/240 [==============================] - 0s 1ms/step - loss: 27.0861\n"
          ],
          "name": "stdout"
        },
        {
          "output_type": "execute_result",
          "data": {
            "text/plain": [
              "<tensorflow.python.keras.callbacks.History at 0x7f7e8c863f60>"
            ]
          },
          "metadata": {
            "tags": []
          },
          "execution_count": 16
        }
      ]
    }
  ]
}